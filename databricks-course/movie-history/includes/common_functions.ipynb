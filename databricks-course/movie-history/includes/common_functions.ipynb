{
 "cells": [
  {
   "cell_type": "code",
   "execution_count": 0,
   "metadata": {
    "application/vnd.databricks.v1+cell": {
     "cellMetadata": {},
     "inputWidgets": {},
     "nuid": "df6ca095-1e51-494f-ad28-e96279691d7e",
     "showTitle": false,
     "tableResultSettingsMap": {},
     "title": ""
    }
   },
   "outputs": [],
   "source": [
    "from pyspark.sql.functions import current_timestamp\n",
    "def add_ingestion_date(input_df):\n",
    "  output_df = input_df.withColumn(\"ingestion_date\", current_timestamp())\n",
    "  return output_df"
   ]
  },
  {
   "cell_type": "code",
   "execution_count": 0,
   "metadata": {
    "application/vnd.databricks.v1+cell": {
     "cellMetadata": {
      "byteLimit": 2048000,
      "rowLimit": 10000
     },
     "inputWidgets": {},
     "nuid": "ff5325e2-df4d-4633-b1e8-30d41f0ab0d6",
     "showTitle": false,
     "tableResultSettingsMap": {},
     "title": ""
    }
   },
   "outputs": [],
   "source": [
    "def ovewrite_partition(input_df,db_name,table_name,column_partition):\n",
    "    for item_list in input_df.select(f\"{column_partition}\").distinct().collect():\n",
    "        if(spark._jsparkSession.catalog().tableExists(f\"{db_name}.{table_name}\")):#Solo se ejecuta el spark sql si existe la tabla, es una validacion\n",
    "            spark.sql(f\"ALTER TABLE {db_name}.{table_name} DROP IF EXISTS PARTITION({column_partition}='{item_list[column_partition]}')\")#Con collect cargo los datos en memoria| Con el comando SQL borro la particion existente asi evito duplicados."
   ]
  },
  {
   "cell_type": "code",
   "execution_count": 0,
   "metadata": {
    "application/vnd.databricks.v1+cell": {
     "cellMetadata": {
      "byteLimit": 2048000,
      "rowLimit": 10000
     },
     "inputWidgets": {},
     "nuid": "14ec4504-013b-4321-b043-f290dc8f2d2e",
     "showTitle": false,
     "tableResultSettingsMap": {},
     "title": ""
    }
   },
   "outputs": [],
   "source": [
    "from delta.tables import *\n",
    "\n",
    "def merge_delta_lake(input_df,db_name,table_name,folder_path,merge_condition,column_partition):    \n",
    "\n",
    "    if(spark._jsparkSession.catalog().tableExists(f\"{db_name}.{table_name}\")):\n",
    "    \n",
    "        deltaTable = DeltaTable.forPath(spark, f'{folder_path}/{table_name}/')\n",
    "\n",
    "        deltaTable.alias('tgt')\\\n",
    "            .merge(\n",
    "            input_df.alias('src'),\n",
    "            merge_condition\n",
    "            ) \\\n",
    "            .whenMatchedUpdateAll()\\\n",
    "            .whenNotMatchedInsertAll()\\\n",
    "            .execute()\n",
    "        \n",
    "    else:\n",
    "        input_df.write.mode(\"overwrite\").partitionBy(column_partition).format(\"delta\").saveAsTable(f\"{db_name}.{table_name}\")#Con mode(\"overwrite\") sobreescribo el archivo y me evito errores| Con partitionBy particiono el archivo para guardarse por el campo que indique"
   ]
  }
 ],
 "metadata": {
  "application/vnd.databricks.v1+notebook": {
   "computePreferences": null,
   "dashboards": [],
   "environmentMetadata": {
    "base_environment": "",
    "environment_version": "2"
   },
   "inputWidgetPreferences": null,
   "language": "python",
   "notebookMetadata": {
    "pythonIndentUnit": 4
   },
   "notebookName": "common_functions",
   "widgets": {}
  },
  "language_info": {
   "name": "python"
  }
 },
 "nbformat": 4,
 "nbformat_minor": 0
}
