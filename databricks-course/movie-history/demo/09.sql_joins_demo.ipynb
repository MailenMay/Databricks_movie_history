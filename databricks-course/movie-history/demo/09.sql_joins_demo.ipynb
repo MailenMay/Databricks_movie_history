{
 "cells": [
  {
   "cell_type": "markdown",
   "metadata": {
    "application/vnd.databricks.v1+cell": {
     "cellMetadata": {},
     "inputWidgets": {},
     "nuid": "747489a3-c0e8-45d8-8fcf-6ce7f2426585",
     "showTitle": false,
     "tableResultSettingsMap": {},
     "title": ""
    }
   },
   "source": [
    "### Join"
   ]
  },
  {
   "cell_type": "markdown",
   "metadata": {
    "application/vnd.databricks.v1+cell": {
     "cellMetadata": {},
     "inputWidgets": {},
     "nuid": "703c6ae1-2576-4031-a852-b3efba901576",
     "showTitle": false,
     "tableResultSettingsMap": {},
     "title": ""
    }
   },
   "source": [
    "https://spark.apache.org/docs/latest/sql-ref-syntax-qry-select-join.html"
   ]
  },
  {
   "cell_type": "code",
   "execution_count": 0,
   "metadata": {
    "application/vnd.databricks.v1+cell": {
     "cellMetadata": {
      "byteLimit": 2048000,
      "rowLimit": 10000
     },
     "inputWidgets": {},
     "nuid": "91f036e8-f906-4414-9981-0227c02dcce8",
     "showTitle": false,
     "tableResultSettingsMap": {},
     "title": ""
    }
   },
   "outputs": [],
   "source": [
    "USE movie_silver;"
   ]
  },
  {
   "cell_type": "code",
   "execution_count": 0,
   "metadata": {
    "application/vnd.databricks.v1+cell": {
     "cellMetadata": {
      "byteLimit": 2048000,
      "rowLimit": 10000
     },
     "inputWidgets": {},
     "nuid": "c226d2a5-ecd2-43ee-af1e-da6a0767f61d",
     "showTitle": false,
     "tableResultSettingsMap": {},
     "title": ""
    }
   },
   "outputs": [],
   "source": [
    "DESC MOVIES;"
   ]
  },
  {
   "cell_type": "code",
   "execution_count": 0,
   "metadata": {
    "application/vnd.databricks.v1+cell": {
     "cellMetadata": {
      "byteLimit": 2048000,
      "rowLimit": 10000
     },
     "inputWidgets": {},
     "nuid": "080e8c53-206c-472f-a1cb-745070da9f76",
     "showTitle": false,
     "tableResultSettingsMap": {},
     "title": ""
    }
   },
   "outputs": [],
   "source": [
    "CREATE OR REPLACE TEMP VIEW v_movies_2011 AS\n",
    "SELECT MOVIE_ID, TITLE, BUDGET, REVENUE, YEAR_RELEASE_DATE, RELEASE_DATE\n",
    "FROM MOVIES\n",
    "WHERE YEAR_RELEASE_DATE = 2011;"
   ]
  },
  {
   "cell_type": "code",
   "execution_count": 0,
   "metadata": {
    "application/vnd.databricks.v1+cell": {
     "cellMetadata": {
      "byteLimit": 2048000,
      "rowLimit": 10000
     },
     "inputWidgets": {},
     "nuid": "50eb6311-c43e-4c18-bad1-e49ae2556a6f",
     "showTitle": false,
     "tableResultSettingsMap": {},
     "title": ""
    }
   },
   "outputs": [],
   "source": [
    "SELECT *\n",
    "FROM V_MOVIES_2011;"
   ]
  },
  {
   "cell_type": "code",
   "execution_count": 0,
   "metadata": {
    "application/vnd.databricks.v1+cell": {
     "cellMetadata": {
      "byteLimit": 2048000,
      "rowLimit": 10000
     },
     "inputWidgets": {},
     "nuid": "a8609840-8fc9-4183-bede-fc8c5516a5f7",
     "showTitle": false,
     "tableResultSettingsMap": {},
     "title": ""
    }
   },
   "outputs": [],
   "source": [
    "CREATE OR REPLACE TEMP VIEW v_productions_countries AS\n",
    "SELECT *\n",
    "FROM PRODUCTIONS_COUNTRIES;"
   ]
  },
  {
   "cell_type": "code",
   "execution_count": 0,
   "metadata": {
    "application/vnd.databricks.v1+cell": {
     "cellMetadata": {
      "byteLimit": 2048000,
      "rowLimit": 10000
     },
     "inputWidgets": {},
     "nuid": "bd719ddf-9267-4b4e-9fba-f1a0719b0990",
     "showTitle": false,
     "tableResultSettingsMap": {},
     "title": ""
    }
   },
   "outputs": [],
   "source": [
    "SELECT *\n",
    "FROM V_PRODUCTIONS_COUNTRIES;"
   ]
  },
  {
   "cell_type": "code",
   "execution_count": 0,
   "metadata": {
    "application/vnd.databricks.v1+cell": {
     "cellMetadata": {
      "byteLimit": 2048000,
      "rowLimit": 10000
     },
     "inputWidgets": {},
     "nuid": "5fb1926a-f586-43af-a6d3-21f7b000d8a9",
     "showTitle": false,
     "tableResultSettingsMap": {},
     "title": ""
    }
   },
   "outputs": [],
   "source": [
    "CREATE OR REPLACE TEMP VIEW v_countries AS\n",
    "SELECT country_id, country_name\n",
    "FROM countries;"
   ]
  },
  {
   "cell_type": "code",
   "execution_count": 0,
   "metadata": {
    "application/vnd.databricks.v1+cell": {
     "cellMetadata": {
      "byteLimit": 2048000,
      "rowLimit": 10000
     },
     "inputWidgets": {},
     "nuid": "18ed2bb4-d5e1-4a2f-b2df-898275671440",
     "showTitle": false,
     "tableResultSettingsMap": {},
     "title": ""
    }
   },
   "outputs": [],
   "source": [
    "SELECT *\n",
    "FROM V_COUNTRIES;"
   ]
  },
  {
   "cell_type": "markdown",
   "metadata": {
    "application/vnd.databricks.v1+cell": {
     "cellMetadata": {},
     "inputWidgets": {},
     "nuid": "a9e14b9d-ae28-42f2-a853-b438a5c0bca3",
     "showTitle": false,
     "tableResultSettingsMap": {},
     "title": ""
    }
   },
   "source": [
    "#### INNER JOIN"
   ]
  },
  {
   "cell_type": "code",
   "execution_count": 0,
   "metadata": {
    "application/vnd.databricks.v1+cell": {
     "cellMetadata": {
      "byteLimit": 2048000,
      "rowLimit": 10000
     },
     "inputWidgets": {},
     "nuid": "00b3283e-d25c-44d6-840b-3296bdbf58d7",
     "showTitle": false,
     "tableResultSettingsMap": {},
     "title": ""
    }
   },
   "outputs": [],
   "source": [
    "SELECT TITLE, BUDGET, REVENUE, YEAR_RELEASE_DATE, RELEASE_DATE, country_name\n",
    "FROM V_MOVIES_2011 VM\n",
    "INNER JOIN V_PRODUCTIONS_COUNTRIES VPC ON VM.MOVIE_ID = VPC.MOVIE_ID\n",
    "INNER JOIN V_COUNTRIES VC ON VPC.COUNTRY_ID = VC.COUNTRY_ID;\n"
   ]
  },
  {
   "cell_type": "markdown",
   "metadata": {
    "application/vnd.databricks.v1+cell": {
     "cellMetadata": {},
     "inputWidgets": {},
     "nuid": "c7b8c2bf-9acc-45e3-b231-f8725d2a4f6f",
     "showTitle": false,
     "tableResultSettingsMap": {},
     "title": ""
    }
   },
   "source": [
    "#### LEFT JOIN"
   ]
  },
  {
   "cell_type": "code",
   "execution_count": 0,
   "metadata": {
    "application/vnd.databricks.v1+cell": {
     "cellMetadata": {
      "byteLimit": 2048000,
      "rowLimit": 10000
     },
     "inputWidgets": {},
     "nuid": "ea5cc3b8-02ad-4c2e-9da8-01a769c70738",
     "showTitle": false,
     "tableResultSettingsMap": {},
     "title": ""
    }
   },
   "outputs": [],
   "source": [
    "SELECT TITLE, BUDGET, REVENUE, YEAR_RELEASE_DATE, RELEASE_DATE, country_name\n",
    "FROM V_MOVIES_2011 VM\n",
    "LEFT JOIN V_PRODUCTIONS_COUNTRIES VPC ON VM.MOVIE_ID = VPC.MOVIE_ID\n",
    "LEFT JOIN V_COUNTRIES VC ON VPC.COUNTRY_ID = VC.COUNTRY_ID;"
   ]
  },
  {
   "cell_type": "markdown",
   "metadata": {
    "application/vnd.databricks.v1+cell": {
     "cellMetadata": {},
     "inputWidgets": {},
     "nuid": "7b5c25d7-619d-45a7-9407-fe96c3d50f12",
     "showTitle": false,
     "tableResultSettingsMap": {},
     "title": ""
    }
   },
   "source": [
    "#### RIGHT JOIN"
   ]
  },
  {
   "cell_type": "code",
   "execution_count": 0,
   "metadata": {
    "application/vnd.databricks.v1+cell": {
     "cellMetadata": {
      "byteLimit": 2048000,
      "rowLimit": 10000
     },
     "inputWidgets": {},
     "nuid": "d94d27a3-a2de-47d4-90fb-9f6e2da792a3",
     "showTitle": false,
     "tableResultSettingsMap": {},
     "title": ""
    }
   },
   "outputs": [],
   "source": [
    "SELECT TITLE, BUDGET, REVENUE, YEAR_RELEASE_DATE, RELEASE_DATE, country_name\n",
    "FROM V_MOVIES_2011 VM\n",
    "RIGHT JOIN V_PRODUCTIONS_COUNTRIES VPC ON VM.MOVIE_ID = VPC.MOVIE_ID\n",
    "RIGHT JOIN V_COUNTRIES VC ON VPC.COUNTRY_ID = VC.COUNTRY_ID;"
   ]
  },
  {
   "cell_type": "markdown",
   "metadata": {
    "application/vnd.databricks.v1+cell": {
     "cellMetadata": {},
     "inputWidgets": {},
     "nuid": "b7495b5e-dca8-4d7e-ae3c-cc8cba9c3888",
     "showTitle": false,
     "tableResultSettingsMap": {},
     "title": ""
    }
   },
   "source": [
    "#### FULL JOIN"
   ]
  },
  {
   "cell_type": "code",
   "execution_count": 0,
   "metadata": {
    "application/vnd.databricks.v1+cell": {
     "cellMetadata": {
      "byteLimit": 2048000,
      "rowLimit": 10000
     },
     "inputWidgets": {},
     "nuid": "5fec8efe-e63c-46a0-9823-2f2c03bce081",
     "showTitle": false,
     "tableResultSettingsMap": {},
     "title": ""
    }
   },
   "outputs": [],
   "source": [
    "SELECT TITLE, BUDGET, REVENUE, YEAR_RELEASE_DATE, RELEASE_DATE, country_name\n",
    "FROM V_MOVIES_2011 VM\n",
    "FULL JOIN V_PRODUCTIONS_COUNTRIES VPC ON VM.MOVIE_ID = VPC.MOVIE_ID\n",
    "FULL JOIN V_COUNTRIES VC ON VPC.COUNTRY_ID = VC.COUNTRY_ID;"
   ]
  },
  {
   "cell_type": "markdown",
   "metadata": {
    "application/vnd.databricks.v1+cell": {
     "cellMetadata": {},
     "inputWidgets": {},
     "nuid": "4767c8e9-78c5-4632-aa07-2dd7b880716a",
     "showTitle": false,
     "tableResultSettingsMap": {},
     "title": ""
    }
   },
   "source": [
    "#### SEMI JOIN\n"
   ]
  },
  {
   "cell_type": "code",
   "execution_count": 0,
   "metadata": {
    "application/vnd.databricks.v1+cell": {
     "cellMetadata": {
      "byteLimit": 2048000,
      "rowLimit": 10000
     },
     "inputWidgets": {},
     "nuid": "ba99e194-507b-40fd-b146-309f37896d3c",
     "showTitle": false,
     "tableResultSettingsMap": {},
     "title": ""
    }
   },
   "outputs": [],
   "source": [
    "SELECT TITLE, BUDGET, REVENUE, YEAR_RELEASE_DATE, RELEASE_DATE\n",
    "FROM V_MOVIES_2011 VM\n",
    "INNER JOIN V_PRODUCTIONS_COUNTRIES VPC ON VM.MOVIE_ID = VPC.MOVIE_ID\n",
    "SEMI JOIN V_COUNTRIES VC ON VPC.COUNTRY_ID = VC.COUNTRY_ID;"
   ]
  },
  {
   "cell_type": "markdown",
   "metadata": {
    "application/vnd.databricks.v1+cell": {
     "cellMetadata": {},
     "inputWidgets": {},
     "nuid": "40c036aa-e877-4058-bc49-4b1981b747bf",
     "showTitle": false,
     "tableResultSettingsMap": {},
     "title": ""
    }
   },
   "source": [
    "#### ANTI JOIN"
   ]
  },
  {
   "cell_type": "code",
   "execution_count": 0,
   "metadata": {
    "application/vnd.databricks.v1+cell": {
     "cellMetadata": {
      "byteLimit": 2048000,
      "rowLimit": 10000
     },
     "inputWidgets": {},
     "nuid": "bd69b2cd-eba4-4c3c-b3f2-80e8f0cae194",
     "showTitle": false,
     "tableResultSettingsMap": {},
     "title": ""
    }
   },
   "outputs": [],
   "source": [
    "SELECT TITLE, BUDGET, REVENUE, YEAR_RELEASE_DATE, RELEASE_DATE\n",
    "FROM V_MOVIES_2011 VM\n",
    "INNER JOIN V_PRODUCTIONS_COUNTRIES VPC ON VM.MOVIE_ID = VPC.MOVIE_ID\n",
    "ANTI JOIN V_COUNTRIES VC ON VPC.COUNTRY_ID = VC.COUNTRY_ID;"
   ]
  },
  {
   "cell_type": "markdown",
   "metadata": {
    "application/vnd.databricks.v1+cell": {
     "cellMetadata": {},
     "inputWidgets": {},
     "nuid": "1360215e-b691-455b-837c-c01cc389f261",
     "showTitle": false,
     "tableResultSettingsMap": {},
     "title": ""
    }
   },
   "source": [
    "#### CROSS JOIN"
   ]
  },
  {
   "cell_type": "code",
   "execution_count": 0,
   "metadata": {
    "application/vnd.databricks.v1+cell": {
     "cellMetadata": {
      "byteLimit": 2048000,
      "rowLimit": 10000
     },
     "inputWidgets": {},
     "nuid": "a69d6cf2-d32d-47b3-8ffc-9db78d97ec31",
     "showTitle": false,
     "tableResultSettingsMap": {},
     "title": ""
    }
   },
   "outputs": [],
   "source": [
    "SELECT TITLE, BUDGET, REVENUE, YEAR_RELEASE_DATE, RELEASE_DATE, country_name\n",
    "FROM V_MOVIES_2011 VM\n",
    "CROSS JOIN V_COUNTRIES VC;"
   ]
  }
 ],
 "metadata": {
  "application/vnd.databricks.v1+notebook": {
   "computePreferences": null,
   "dashboards": [],
   "environmentMetadata": {
    "base_environment": "",
    "environment_version": "2"
   },
   "inputWidgetPreferences": null,
   "language": "sql",
   "notebookMetadata": {},
   "notebookName": "09.sql_joins_demo",
   "widgets": {}
  },
  "language_info": {
   "name": "sql"
  }
 },
 "nbformat": 4,
 "nbformat_minor": 0
}
