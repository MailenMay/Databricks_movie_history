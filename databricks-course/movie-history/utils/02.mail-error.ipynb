{
 "cells": [
  {
   "cell_type": "code",
   "execution_count": 0,
   "metadata": {
    "application/vnd.databricks.v1+cell": {
     "cellMetadata": {
      "byteLimit": 2048000,
      "rowLimit": 10000
     },
     "inputWidgets": {},
     "nuid": "9d546811-2f67-417f-8a59-bc445a3941b9",
     "showTitle": false,
     "tableResultSettingsMap": {},
     "title": ""
    }
   },
   "outputs": [],
   "source": [
    "import smtplib\n",
    "from email.mime.text import MIMEText\n",
    "\n",
    "subject = 'Pipeline Error'\n",
    "body = 'El proceso de Pipeline ha caido en error debido a que no se encuentra la carpeta.'\n",
    "sender = 'xxxxxx@gmail.com'\n",
    "my_password = 'xxxxxxx'\n",
    "recipients = [sender]\n",
    "\n",
    "def send_mail(subject, body, sender, recipients):\n",
    "    msg = MIMEText(body)\n",
    "    msg['subject'] = subject\n",
    "    msg['From'] = sender\n",
    "    msg['To'] = ', '.join(recipients)\n",
    "\n",
    "    with smtplib.SMTP_SSL('smtp.gmail.com', 465) as smtp_server:\n",
    "        smtp_server.login(sender, my_password)\n",
    "        smtp_server.sendmail(sender, recipients, msg.as_string())\n",
    "    print(\"Message sent!\")\n",
    "\n",
    "send_mail(subject, body, sender, recipients)"
   ]
  }
 ],
 "metadata": {
  "application/vnd.databricks.v1+notebook": {
   "computePreferences": null,
   "dashboards": [],
   "environmentMetadata": {
    "base_environment": "",
    "environment_version": "2"
   },
   "inputWidgetPreferences": null,
   "language": "python",
   "notebookMetadata": {
    "pythonIndentUnit": 4
   },
   "notebookName": "02.mail-error",
   "widgets": {}
  },
  "language_info": {
   "name": "python"
  }
 },
 "nbformat": 4,
 "nbformat_minor": 0
}
