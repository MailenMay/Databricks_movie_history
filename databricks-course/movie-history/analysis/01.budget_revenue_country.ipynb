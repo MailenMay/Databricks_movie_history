{
 "cells": [
  {
   "cell_type": "code",
   "execution_count": 0,
   "metadata": {
    "application/vnd.databricks.v1+cell": {
     "cellMetadata": {
      "byteLimit": 2048000,
      "rowLimit": 10000
     },
     "inputWidgets": {},
     "nuid": "25124e91-b2fd-4ea4-8e96-37130cc82ac9",
     "showTitle": false,
     "tableResultSettingsMap": {},
     "title": ""
    }
   },
   "outputs": [],
   "source": [
    "USE MOVIE_GOLD;"
   ]
  },
  {
   "cell_type": "code",
   "execution_count": 0,
   "metadata": {
    "application/vnd.databricks.v1+cell": {
     "cellMetadata": {
      "byteLimit": 2048000,
      "rowLimit": 10000
     },
     "inputWidgets": {},
     "nuid": "8645e814-39c9-44c9-a08c-7321d6b51a4f",
     "showTitle": false,
     "tableResultSettingsMap": {},
     "title": ""
    }
   },
   "outputs": [],
   "source": [
    "SELECT *\n",
    "FROM RESULTS_MOVIE;"
   ]
  },
  {
   "cell_type": "code",
   "execution_count": 0,
   "metadata": {
    "application/vnd.databricks.v1+cell": {
     "cellMetadata": {
      "byteLimit": 2048000,
      "rowLimit": 10000
     },
     "inputWidgets": {},
     "nuid": "735bf81f-b646-4ec6-98fe-dd9084ee0253",
     "showTitle": false,
     "tableResultSettingsMap": {},
     "title": ""
    }
   },
   "outputs": [],
   "source": [
    "SELECT COUNTRY_NAME, COUNT(COUNTRY_NAME) AS TOTAL_MOVIE, SUM(BUDGET) AS TOTAL_BUDGET, SUM(REVENUE) AS TOTAL_REVENUE\n",
    "FROM RESULTS_MOVIE\n",
    "GROUP BY COUNTRY_NAME\n",
    "ORDER BY TOTAL_REVENUE DESC;"
   ]
  },
  {
   "cell_type": "code",
   "execution_count": 0,
   "metadata": {
    "application/vnd.databricks.v1+cell": {
     "cellMetadata": {
      "byteLimit": 2048000,
      "rowLimit": 10000
     },
     "inputWidgets": {},
     "nuid": "875b90db-f77e-45fb-b70f-8cd03cea190f",
     "showTitle": false,
     "tableResultSettingsMap": {},
     "title": ""
    }
   },
   "outputs": [],
   "source": [
    "SELECT COUNTRY_NAME, COUNT(COUNTRY_NAME) AS TOTAL_MOVIE, SUM(BUDGET) AS TOTAL_BUDGET, CAST(AVG(BUDGET) AS DECIMAL(18,2)) AS AVG_BUDGET ,SUM(REVENUE) AS TOTAL_REVENUE, CAST(AVG(REVENUE) AS DECIMAL(18,2)) AS AVG_REVENUE\n",
    "FROM RESULTS_MOVIE\n",
    "GROUP BY COUNTRY_NAME\n",
    "ORDER BY TOTAL_REVENUE DESC;"
   ]
  },
  {
   "cell_type": "code",
   "execution_count": 0,
   "metadata": {
    "application/vnd.databricks.v1+cell": {
     "cellMetadata": {
      "byteLimit": 2048000,
      "rowLimit": 10000
     },
     "inputWidgets": {},
     "nuid": "43bf1613-d70e-4de9-a6f3-c81d79e33dbf",
     "showTitle": false,
     "tableResultSettingsMap": {},
     "title": ""
    }
   },
   "outputs": [],
   "source": [
    "SELECT COUNTRY_NAME, COUNT(COUNTRY_NAME) AS TOTAL_MOVIE, SUM(BUDGET) AS TOTAL_BUDGET, CAST(AVG(BUDGET) AS DECIMAL(18,2)) AS AVG_BUDGET ,SUM(REVENUE) AS TOTAL_REVENUE, CAST(AVG(REVENUE) AS DECIMAL(18,2)) AS AVG_REVENUE\n",
    "FROM RESULTS_MOVIE\n",
    "WHERE YEAR_RELEASE_DATE BETWEEN 2010 AND 2015\n",
    "GROUP BY COUNTRY_NAME\n",
    "ORDER BY TOTAL_REVENUE DESC;"
   ]
  }
 ],
 "metadata": {
  "application/vnd.databricks.v1+notebook": {
   "computePreferences": null,
   "dashboards": [],
   "environmentMetadata": {
    "base_environment": "",
    "environment_version": "2"
   },
   "inputWidgetPreferences": null,
   "language": "sql",
   "notebookMetadata": {
    "pythonIndentUnit": 4
   },
   "notebookName": "01.budget_revenue_country",
   "widgets": {}
  },
  "language_info": {
   "name": "sql"
  }
 },
 "nbformat": 4,
 "nbformat_minor": 0
}
