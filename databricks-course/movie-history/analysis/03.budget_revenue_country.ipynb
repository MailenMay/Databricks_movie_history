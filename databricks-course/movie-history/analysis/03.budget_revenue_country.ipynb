{
 "cells": [
  {
   "cell_type": "code",
   "execution_count": 0,
   "metadata": {
    "application/vnd.databricks.v1+cell": {
     "cellMetadata": {
      "byteLimit": 2048000,
      "rowLimit": 10000
     },
     "inputWidgets": {},
     "nuid": "25124e91-b2fd-4ea4-8e96-37130cc82ac9",
     "showTitle": false,
     "tableResultSettingsMap": {},
     "title": ""
    }
   },
   "outputs": [],
   "source": [
    "USE MOVIE_GOLD;"
   ]
  },
  {
   "cell_type": "code",
   "execution_count": 0,
   "metadata": {
    "application/vnd.databricks.v1+cell": {
     "cellMetadata": {
      "byteLimit": 2048000,
      "rowLimit": 10000
     },
     "inputWidgets": {},
     "nuid": "ac0a7858-77b8-4fba-bf41-3d0762f0c866",
     "showTitle": false,
     "tableResultSettingsMap": {},
     "title": ""
    }
   },
   "outputs": [
    {
     "output_type": "display_data",
     "data": {
      "text/plain": [
       "Databricks data profile. Run in Databricks to view."
      ]
     },
     "metadata": {
      "application/vnd.databricks.v1.subcommand+json": {
       "baseErrorDetails": null,
       "bindings": {},
       "collapsed": false,
       "command": "%python\nif hasattr(dbutils, \"data\") and hasattr(dbutils.data, \"summarize\"):\n  dbutils.data.summarize(spark.sql(r\"\"\"SELECT COUNTRY_NAME, COUNT(COUNTRY_NAME) AS TOTAL_MOVIE, SUM(BUDGET) AS TOTAL_BUDGET, CAST(AVG(BUDGET) AS DECIMAL(18,2)) AS AVG_BUDGET ,SUM(REVENUE) AS TOTAL_REVENUE, CAST(AVG(REVENUE) AS DECIMAL(18,2)) AS AVG_REVENUE\nFROM RESULTS_MOVIE\nGROUP BY COUNTRY_NAME\nORDER BY TOTAL_REVENUE DESC\nLIMIT 10 \"\"\"))\nelse:\n  print(\"This DBR version does not support data profiles.\")\n",
       "commandTitle": "Perfiles de datos 1",
       "commandType": "auto",
       "commandVersion": 0,
       "commentThread": [],
       "commentsVisible": false,
       "contentSha256Hex": null,
       "customPlotOptions": {},
       "datasetPreviewNameToCmdIdMap": {},
       "diffDeletes": [],
       "diffInserts": [],
       "displayType": "table",
       "error": null,
       "errorDetails": null,
       "errorSummary": null,
       "errorTraceType": null,
       "finishTime": 1751499585986,
       "globalVars": {},
       "guid": "",
       "height": "auto",
       "hideCommandCode": false,
       "hideCommandResult": false,
       "iPythonMetadata": null,
       "inputWidgets": {},
       "isLockedInExamMode": false,
       "latestUser": "a user",
       "latestUserId": null,
       "listResultMetadata": [
        [
         "mimeBundle",
         null
        ]
       ],
       "metadata": {
        "byteLimit": 2048000,
        "rowLimit": 10000
       },
       "nuid": "461a62f7-aea7-4ac5-bbf3-50125338da73",
       "origId": 0,
       "parentHierarchy": [],
       "pivotAggregation": null,
       "pivotColumns": null,
       "position": 5.0,
       "resultDbfsErrorMessage": null,
       "resultDbfsStatus": "INLINED_IN_TREE",
       "results": null,
       "showCommandTitle": false,
       "startTime": 1751499583812,
       "state": "input",
       "streamStates": {},
       "subcommandOptions": null,
       "submitTime": 1751499583775,
       "subtype": "tableResultSubCmd.dataSummary",
       "tableResultIndex": 0,
       "tableResultSettingsMap": {},
       "useConsistentColors": false,
       "version": "CommandV1",
       "width": "auto",
       "workflows": null,
       "xColumns": null,
       "yColumns": null
      }
     },
     "output_type": "display_data"
    },
    {
     "output_type": "display_data",
     "data": {
      "text/plain": [
       "Databricks visualization. Run in Databricks to view."
      ]
     },
     "metadata": {
      "application/vnd.databricks.v1.subcommand+json": {
       "baseErrorDetails": null,
       "bindings": {},
       "collapsed": false,
       "command": "%sql WITH q AS (SELECT COUNTRY_NAME, COUNT(COUNTRY_NAME) AS TOTAL_MOVIE, SUM(BUDGET) AS TOTAL_BUDGET, CAST(AVG(BUDGET) AS DECIMAL(18,2)) AS AVG_BUDGET ,SUM(REVENUE) AS TOTAL_REVENUE, CAST(AVG(REVENUE) AS DECIMAL(18,2)) AS AVG_REVENUE\nFROM RESULTS_MOVIE\nGROUP BY COUNTRY_NAME\nORDER BY TOTAL_REVENUE DESC\nLIMIT 10) SELECT `COUNTRY_NAME`,SUM(`TOTAL_BUDGET`) `column_73490a042780` FROM q GROUP BY `COUNTRY_NAME`",
       "commandTitle": "Visualización 1",
       "commandType": "auto",
       "commandVersion": 0,
       "commentThread": [],
       "commentsVisible": false,
       "contentSha256Hex": null,
       "customPlotOptions": {
        "redashChart": [
         {
          "key": "type",
          "value": "CHART"
         },
         {
          "key": "options",
          "value": {
           "alignYAxesAtZero": true,
           "coefficient": 1,
           "columnConfigurationMap": {
            "x": {
             "column": "COUNTRY_NAME",
             "id": "column_73490a042778"
            },
            "y": [
             {
              "column": "TOTAL_BUDGET",
              "id": "column_73490a042780",
              "transform": "SUM"
             }
            ]
           },
           "dateTimeFormat": "DD/MM/YYYY HH:mm",
           "direction": {
            "type": "counterclockwise"
           },
           "error_y": {
            "type": "data",
            "visible": true
           },
           "globalSeriesType": "column",
           "hideYAxes": false,
           "isAggregationOn": true,
           "legend": {
            "traceorder": "normal"
           },
           "missingValuesAsZero": true,
           "numberFormat": "0,0.[00000]",
           "percentFormat": "0[.]00%",
           "series": {
            "error_y": {
             "type": "data",
             "visible": true
            },
            "stacking": null
           },
           "seriesOptions": {
            "column_73490a042780": {
             "color": "#FFAB00",
             "type": "column",
             "yAxis": 0
            }
           },
           "showDataLabels": false,
           "sizemode": "diameter",
           "sortX": true,
           "sortY": true,
           "swappedAxes": false,
           "textFormat": "",
           "useAggregationsUi": true,
           "valuesOptions": {},
           "version": 2,
           "xAxis": {
            "labels": {
             "enabled": true
            },
            "title": {
             "text": "country"
            },
            "type": "-"
           },
           "yAxis": [
            {
             "type": "-"
            },
            {
             "opposite": true,
             "type": "-"
            }
           ]
          }
         }
        ]
       },
       "datasetPreviewNameToCmdIdMap": {},
       "diffDeletes": [],
       "diffInserts": [],
       "displayType": "redashChart",
       "error": null,
       "errorDetails": null,
       "errorSummary": null,
       "errorTraceType": null,
       "finishTime": 0,
       "globalVars": {},
       "guid": "",
       "height": "auto",
       "hideCommandCode": false,
       "hideCommandResult": false,
       "iPythonMetadata": null,
       "inputWidgets": {},
       "isLockedInExamMode": false,
       "latestUser": "a user",
       "latestUserId": null,
       "listResultMetadata": null,
       "metadata": {},
       "nuid": "722704d8-5442-457e-bf0f-f70e9533000b",
       "origId": 0,
       "parentHierarchy": [],
       "pivotAggregation": null,
       "pivotColumns": null,
       "position": 6.0,
       "resultDbfsErrorMessage": null,
       "resultDbfsStatus": "INLINED_IN_TREE",
       "results": null,
       "showCommandTitle": false,
       "startTime": 0,
       "state": "input",
       "streamStates": {},
       "subcommandOptions": {
        "queryPlan": {
         "groups": [
          {
           "column": "COUNTRY_NAME",
           "type": "column"
          }
         ],
         "selects": [
          {
           "column": "COUNTRY_NAME",
           "type": "column"
          },
          {
           "alias": "column_73490a042780",
           "args": [
            {
             "column": "TOTAL_BUDGET",
             "type": "column"
            }
           ],
           "function": "SUM",
           "type": "function"
          }
         ]
        }
       },
       "submitTime": 0,
       "subtype": "tableResultSubCmd.visualization",
       "tableResultIndex": 0,
       "tableResultSettingsMap": {},
       "useConsistentColors": false,
       "version": "CommandV1",
       "width": "auto",
       "workflows": null,
       "xColumns": null,
       "yColumns": null
      }
     },
     "output_type": "display_data"
    }
   ],
   "source": [
    "SELECT COUNTRY_NAME, COUNT(COUNTRY_NAME) AS TOTAL_MOVIE, SUM(BUDGET) AS TOTAL_BUDGET, CAST(AVG(BUDGET) AS DECIMAL(18,2)) AS AVG_BUDGET ,SUM(REVENUE) AS TOTAL_REVENUE, CAST(AVG(REVENUE) AS DECIMAL(18,2)) AS AVG_REVENUE\n",
    "FROM RESULTS_MOVIE\n",
    "GROUP BY COUNTRY_NAME\n",
    "ORDER BY TOTAL_REVENUE DESC\n",
    "LIMIT 10;"
   ]
  },
  {
   "cell_type": "code",
   "execution_count": 0,
   "metadata": {
    "application/vnd.databricks.v1+cell": {
     "cellMetadata": {
      "byteLimit": 2048000,
      "rowLimit": 10000
     },
     "inputWidgets": {},
     "nuid": "43bf1613-d70e-4de9-a6f3-c81d79e33dbf",
     "showTitle": false,
     "tableResultSettingsMap": {},
     "title": ""
    }
   },
   "outputs": [
    {
     "output_type": "display_data",
     "data": {
      "text/plain": [
       "Databricks visualization. Run in Databricks to view."
      ]
     },
     "metadata": {
      "application/vnd.databricks.v1.subcommand+json": {
       "baseErrorDetails": null,
       "bindings": {},
       "collapsed": false,
       "command": "%sql WITH q AS (SELECT COUNTRY_NAME, COUNT(COUNTRY_NAME) AS TOTAL_MOVIE, SUM(BUDGET) AS TOTAL_BUDGET, CAST(AVG(BUDGET) AS DECIMAL(18,2)) AS AVG_BUDGET ,SUM(REVENUE) AS TOTAL_REVENUE, CAST(AVG(REVENUE) AS DECIMAL(18,2)) AS AVG_REVENUE\nFROM RESULTS_MOVIE\nWHERE YEAR_RELEASE_DATE BETWEEN 2010 AND 2015\nGROUP BY COUNTRY_NAME\nORDER BY TOTAL_REVENUE DESC\nLIMIT 10) SELECT `COUNTRY_NAME`,SUM(`TOTAL_BUDGET`) `column_73490a042784`,SUM(`TOTAL_REVENUE`) `column_73490a042787` FROM q GROUP BY `COUNTRY_NAME`",
       "commandTitle": "Visualización 1",
       "commandType": "auto",
       "commandVersion": 0,
       "commentThread": [],
       "commentsVisible": false,
       "contentSha256Hex": null,
       "customPlotOptions": {
        "redashChart": [
         {
          "key": "type",
          "value": "CHART"
         },
         {
          "key": "options",
          "value": {
           "alignYAxesAtZero": true,
           "coefficient": 1,
           "columnConfigurationMap": {
            "x": {
             "column": "COUNTRY_NAME",
             "id": "column_73490a042782"
            },
            "y": [
             {
              "column": "TOTAL_BUDGET",
              "id": "column_73490a042784",
              "transform": "SUM"
             },
             {
              "column": "TOTAL_REVENUE",
              "id": "column_73490a042787",
              "transform": "SUM"
             }
            ]
           },
           "dateTimeFormat": "DD/MM/YYYY HH:mm",
           "direction": {
            "type": "counterclockwise"
           },
           "error_y": {
            "type": "data",
            "visible": true
           },
           "globalSeriesType": "line",
           "isAggregationOn": true,
           "legend": {
            "traceorder": "normal"
           },
           "missingValuesAsZero": true,
           "numberFormat": "0,0.[00000]",
           "percentFormat": "0[.]00%",
           "series": {
            "error_y": {
             "type": "data",
             "visible": true
            },
            "stacking": null
           },
           "seriesOptions": {
            "column_73490a042784": {
             "color": "#AB4057",
             "type": "line",
             "yAxis": 0
            },
            "column_73490a042787": {
             "type": "line",
             "yAxis": 0
            }
           },
           "showDataLabels": false,
           "sizemode": "diameter",
           "sortX": true,
           "sortY": true,
           "swappedAxes": false,
           "textFormat": "",
           "useAggregationsUi": true,
           "valuesOptions": {},
           "version": 2,
           "xAxis": {
            "labels": {
             "enabled": true
            },
            "type": "-"
           },
           "yAxis": [
            {
             "type": "-"
            },
            {
             "opposite": true,
             "type": "-"
            }
           ]
          }
         }
        ]
       },
       "datasetPreviewNameToCmdIdMap": {},
       "diffDeletes": [],
       "diffInserts": [],
       "displayType": "redashChart",
       "error": null,
       "errorDetails": null,
       "errorSummary": null,
       "errorTraceType": null,
       "finishTime": 0,
       "globalVars": {},
       "guid": "",
       "height": "auto",
       "hideCommandCode": false,
       "hideCommandResult": false,
       "iPythonMetadata": null,
       "inputWidgets": {},
       "isLockedInExamMode": false,
       "latestUser": "a user",
       "latestUserId": null,
       "listResultMetadata": null,
       "metadata": {},
       "nuid": "ae6e3263-a4ac-43b1-8d01-ebe0f956d3e8",
       "origId": 0,
       "parentHierarchy": [],
       "pivotAggregation": null,
       "pivotColumns": null,
       "position": 6.0,
       "resultDbfsErrorMessage": null,
       "resultDbfsStatus": "INLINED_IN_TREE",
       "results": null,
       "showCommandTitle": false,
       "startTime": 0,
       "state": "input",
       "streamStates": {},
       "subcommandOptions": {
        "queryPlan": {
         "groups": [
          {
           "column": "COUNTRY_NAME",
           "type": "column"
          }
         ],
         "selects": [
          {
           "column": "COUNTRY_NAME",
           "type": "column"
          },
          {
           "alias": "column_73490a042784",
           "args": [
            {
             "column": "TOTAL_BUDGET",
             "type": "column"
            }
           ],
           "function": "SUM",
           "type": "function"
          },
          {
           "alias": "column_73490a042787",
           "args": [
            {
             "column": "TOTAL_REVENUE",
             "type": "column"
            }
           ],
           "function": "SUM",
           "type": "function"
          }
         ]
        }
       },
       "submitTime": 0,
       "subtype": "tableResultSubCmd.visualization",
       "tableResultIndex": 0,
       "tableResultSettingsMap": {},
       "useConsistentColors": false,
       "version": "CommandV1",
       "width": "auto",
       "workflows": null,
       "xColumns": null,
       "yColumns": null
      }
     },
     "output_type": "display_data"
    }
   ],
   "source": [
    "SELECT COUNTRY_NAME, COUNT(COUNTRY_NAME) AS TOTAL_MOVIE, SUM(BUDGET) AS TOTAL_BUDGET, CAST(AVG(BUDGET) AS DECIMAL(18,2)) AS AVG_BUDGET ,SUM(REVENUE) AS TOTAL_REVENUE, CAST(AVG(REVENUE) AS DECIMAL(18,2)) AS AVG_REVENUE\n",
    "FROM RESULTS_MOVIE\n",
    "WHERE YEAR_RELEASE_DATE BETWEEN 2010 AND 2015\n",
    "GROUP BY COUNTRY_NAME\n",
    "ORDER BY TOTAL_REVENUE DESC\n",
    "LIMIT 10;"
   ]
  }
 ],
 "metadata": {
  "application/vnd.databricks.v1+notebook": {
   "computePreferences": null,
   "dashboards": [],
   "environmentMetadata": {
    "base_environment": "",
    "environment_version": "2"
   },
   "inputWidgetPreferences": null,
   "language": "sql",
   "notebookMetadata": {
    "pythonIndentUnit": 4
   },
   "notebookName": "03.budget_revenue_country",
   "widgets": {}
  },
  "language_info": {
   "name": "sql"
  }
 },
 "nbformat": 4,
 "nbformat_minor": 0
}
